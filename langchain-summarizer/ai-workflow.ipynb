{
 "cells": [
  {
   "cell_type": "markdown",
   "id": "3b4391e2",
   "metadata": {
    "vscode": {
     "languageId": "markdown"
    }
   },
   "source": [
    "# Model-based Article Summarization\n",
    "<a id =\"model-based-article-summarization\"></a>\n",
    "\n",
    "\n",
    "- [Introduction](#introduction)\n",
    "- [Setup](#setup)\n",
    "- [Building the Article Summarizer Worker](#building-the-article-summarizer-worker)\n",
    "    - [Model(-Factory)](#model-factory)\n",
    "    - [Structured Output](#structured-output)\n",
    "    - [Agentic Unit](#agentic-unit)\n",
    "- [Prepare Agents with different Models](#prepare-agents-with-different-models)\n",
    "- [Runner](#runner)\n",
    "    - [HTML Retrieval](#html-retrieval)\n",
    "    - [Batch Runner](#batch-runner)\n",
    "    - [Unit Runner (Tool)](#unit-runner-tool)"
   ]
  },
  {
   "cell_type": "markdown",
   "id": "74cf2b92",
   "metadata": {},
   "source": [
    "<a id=\"introduction\">Introduction</a>\n",
    "- This case walks through creating AI applications and agents with **LangChain** and **LangGraph**.\n",
    "- The use case is to take a URL, load the contents and have them extracted by a language model to create a unified summary.\n",
    "- We will spin up the straight forward way to extract article content to use for development and benchmarking in this Notebook to examine the most basic pieces\n",
    "\n",
    "This notebook aims to streamline a basic ai-induced workflow. We are simply not iterested in writing explicit logic to extract human-readable data from website data - so using an LM for that. \n",
    "While agentic would imply an LM to make core workflow decisions, our LMs here only execute a single instruction, not even a loop questioning the own output is used.\n",
    "\n",
    "Our goal is something different: make an ai task predictable given a certain type of input. This does not much magic, it's more like we caged Dumbledore in a cell to only have him summon our same four favourite snacks.\n",
    "\n",
    "In order to achieve this, many LMs support a concept called **Structured Output** natively. Actually, this is pretty straightforward if you interpret LMs as fill-in-the-blank engines. Usually, the blank we are providing is the empty space after our question(mark). But LMs are perfectly working with intermediate spaces to fill in the. That way you can create expressions with guarnteed patterns like we know it from String interpolation. In Python e.g. you can use curly brackets inside f\"\"-Strings to reference variables, where its' values will be baked into the string at place at runtime. In the same way we can pass a fill-in-the-blank text, where we indicate the blanks with curly brackets and put individual sub-prompts about what to fill into these gaps.\n",
    "\n",
    "That way we can make our output machine-usable in classic workflows. (LangChain offers a very elegant way to Python your way through this)\n",
    "\n",
    "Later on, we might want to encapsulate this logic and actually use it inside agentic workflows. But this will not be covered by this notebook, as this will require more code and abstraction, while we simply want to play on the open heart here.\n",
    "\n",
    "But as a special, we will encapsulate parts to make them iterable over a range of model configurations to batch-execute and compare by a single input.\n",
    "Finally, we will encapsulate our agent as a single piece of work to wrap it into a tool, that you might use further, if you want to extend this notebook."
   ]
  },
  {
   "cell_type": "markdown",
   "id": "1e6d89e3",
   "metadata": {},
   "source": [
    "## [Setup](#model-based-article-summarization)\n",
    "<a id=\"setup\"></a>"
   ]
  },
  {
   "cell_type": "markdown",
   "id": "2c12eac8",
   "metadata": {},
   "source": [
    "## [Building the Article Summarizer Worker](#model-based-article-summarization)\n",
    "<a id=\"building-the-article-summarizer-worker\"></a>\n",
    "\n",
    "### [Model(-Factory)](#model-based-article-summarization)\n",
    "<a id=\"model-factory\"></a>\n",
    "For this Demo, we will only use the Ollama integration for using our local ai application. Before using it, make sure to properly setup Ollama.\n",
    "But we want to enable benchmarking various Ollama models. Hence, we make a function to make it straightforward to use different models."
   ]
  },
  {
   "cell_type": "code",
   "execution_count": null,
   "id": "ac017a19",
   "metadata": {},
   "outputs": [],
   "source": [
    "from langchain_ollama import ChatOllama\n",
    "\n",
    "OLLAMA_URL = \"http://192.168.188.24:11434\" # Change here, if your Ollama host runs on a different machine\n",
    "\n",
    "def get_model(model_name: str, temperature: int = 0.1):\n",
    "    return ChatOllama(model=model_name, temperature=temperature, base_url=OLLAMA_URL)"
   ]
  },
  {
   "cell_type": "markdown",
   "id": "23748eb3",
   "metadata": {},
   "source": [
    "### [Structured Output](#model-based-article-summarization)\n",
    "<a id=\"summarizer\"></a>\n",
    "LangChain is a huge platform to make application logic with AI components; offers a huge range of integrations and helpers to achieve all sorts of interactions. We will use a tiny subset of the features, since we only fetch and summarize.\n",
    "\n",
    "We will need the language model (LM) for only one step during the process, which is taking in HTML data from an article web page and extracting the article's content and some data about it. Feeding the model with the HTML data will be achieved by using deterministic requests with Python, not being in the hands of the LM as this clears out a big surface of unexpected behavior - well, at least in the first (later nested) step.\n",
    "\n",
    "We will use LangGraph to create a custom Agent (which is not very agentic yet, but can be reused more straightforwardly). \n",
    "\n",
    "But before we do that, we will anticipate defining the structured output, that we will require the model to output when feeding it HTML data. Luckily, Langchain lets us use Pydantic Models, which allow us to define forms with fields that will basically be filled out by the LM:"
   ]
  },
  {
   "cell_type": "code",
   "execution_count": null,
   "id": "ad320651",
   "metadata": {},
   "outputs": [],
   "source": [
    "from typing import Literal, Optional\n",
    "from pydantic import BaseModel, Field, field_validator\n",
    "from datetime import datetime\n",
    "\n",
    "class SummarySchema(BaseModel):\n",
    "\n",
    "    #Fields\n",
    "    title: str = Field(description=\"Title of the news article\")\n",
    "    url: str = Field(description=\"URL that was used to load the news article\")\n",
    "    summary: str = Field(description=\"Summary of the news article\")\n",
    "    content: str = Field(description=\"Full content of the news article\")\n",
    "    category: Literal[\"AI\", \"Hardware\", \"Software Development\", \"Web Development\", \"Cloud Computing\", \"Data Science\", \"Machine Learning\", \"Cybersecurity\", \"Networking\", \"DevOps\", \"Mobile Development\", \"Game Development\", \"Database Management\", \"IT\", \"Project Management\"]\n",
    "    datePublished: str = Field(description=\"Date when the news article was published, format YYYY-MM-DD\")\n",
    "    imageUrl: Optional[str] = Field(default=None, description=\"URL of the image associated with the news article\")\n",
    "    source: str = Field(description=\"Publishing source of the news article\")\n",
    "\n",
    "    # Method that ensures custom constraints on a certain field\n",
    "    @field_validator(\"datePublished\")\n",
    "    def validate_date(cls, v):\n",
    "        try:\n",
    "            date = datetime.fromisoformat(v)\n",
    "            return datetime.strftime(date, \"%Y-%m-%d\")\n",
    "        except ValueError:\n",
    "            raise ValueError(\"datePublished is not a valid date\")"
   ]
  },
  {
   "cell_type": "markdown",
   "id": "7b09af8c",
   "metadata": {},
   "source": [
    "this is seriously powerful because we do not have to parse any keywords as attributes and rely on syntax consistencies and actually receive an instance of this class with all its' attributes set by the LM. \n",
    "\n",
    "### [Agentic Unit](#model-based-article-summarization)\n",
    "<a id=\"agentic-unit\"></a>\n",
    "We can then feed this class to bind it to the model that we use in the agent. To build an agent, we use a builder instance that is given a type of state. State objects hold runtime working data being passed along the workflow. They are classes with attributes that can be accessed as needed by a node. \n",
    "\n",
    "A **node** is a unit of work that does interactions and prompts ai models - they are simply functions that take a state and return an object with the attribute(s) of the state object to be updated.\n",
    "\n",
    "The simplest form of **State** objects are **MessagesState objects**. They only have an attribute \"messages\", which is a **list of Message objects** and are semi-intuitively managing the runtime output data as a chat history.\n",
    "\n",
    "States are passed through the agent along nodes and their connecting edges. **Edges** between nodes are used to design conditional or chained agent processes. We only have one edge that is the minimum requirement to get your agent to actually start doing something. In combination with structured outputs and programmatic conditional statements, we could effectively orchestrate more complex decisions."
   ]
  },
  {
   "cell_type": "code",
   "execution_count": null,
   "id": "022661bb",
   "metadata": {},
   "outputs": [],
   "source": [
    "from langgraph.graph import StateGraph, START, MessagesState\n",
    "from langchain_ollama import ChatOllama\n",
    "from langchain_core.messages import SystemMessage, AIMessage\n",
    "\n",
    "def get_article_extractor(model: ChatOllama):\n",
    "    # Bind structured output\n",
    "    model = model.with_structured_output(SummarySchema)\n",
    "\n",
    "    # Instantiate new Agent builder\n",
    "    builder = StateGraph(MessagesState)\n",
    "    \n",
    "    # Define a Node\n",
    "    async def summarize(state: MessagesState):\n",
    "        print(\"CHECKPOINT Summarize Node\")\n",
    "        # The chain of messages will be stored in the state object. We just assume that the HTML data is in the latest message of this chain.\n",
    "        html = state[\"messages\"][-1]\n",
    "\n",
    "        # We just define a usual model invocation as our ai piece of work\n",
    "        response = await model.ainvoke(\n",
    "            [\n",
    "                SystemMessage(content=f\"You are a web page content summarizer. Use the given output structure to summarize the page content.\"),\n",
    "                SystemMessage(content=html.content)\n",
    "            ]\n",
    "        )\n",
    "        # The response variable will be where our instantiated Pytantic object will be stored. \n",
    "        # We manually add the contents as JSON data to our node output with Pydantic's built-in json dumper.\n",
    "        # Wayyy more robust than instructing the LM to respect a format\n",
    "        return { \"messages\":  AIMessage(content=response.model_dump_json(indent=2))}\n",
    "    builder.add_node(\"summarize\", summarize)\n",
    "    builder.add_edge(START, \"summarize\")\n",
    "    # CompiledGraph can be prompted like a language model\n",
    "    return builder.compile()"
   ]
  },
  {
   "cell_type": "markdown",
   "id": "6e205af7",
   "metadata": {},
   "source": [
    "## [Prepare Agents with different Models](#model-based-article-summarization)\n",
    "<a id=\"prepare-agents-with-different-models\"></a>\n",
    "We now have our 'agentic' workflow unit, that we can invoke directly. Lets now prepare our different configurations, we want to test against each other.\n",
    "Use this cell to define your choice of Agents to compare. You can simply comment out lines of configurations you want to exclude, but not delete.\n",
    "\n",
    "Later, the batch runner will iterate over these agents and feed them with the same data"
   ]
  },
  {
   "cell_type": "code",
   "execution_count": null,
   "id": "c15bfb1e",
   "metadata": {},
   "outputs": [],
   "source": [
    "from typing import Dict\n",
    "from langgraph.graph.graph import CompiledGraph\n",
    "\n",
    "AGENTS: Dict[str, CompiledGraph] = {\n",
    "    \"qwen3:8b\": get_article_extractor(get_model(\"qwen3:8b\")),\n",
    "    #\"qwen3:8b-0DEG\": get_article_extractor(get_model(\"qwen3:8b\", temperature=0)),\n",
    "    \"granite3.2\": get_article_extractor(get_model(\"granite3.2\")),\n",
    "    #\"qwq\": get_article_extractor(get_model(\"qwq\"))\n",
    "}"
   ]
  },
  {
   "cell_type": "markdown",
   "id": "a7e7a37a",
   "metadata": {},
   "source": [
    "## [Runner](#model-based-article-summarization)\n",
    "<a id=\"runner\"></a>\n",
    "After setting up our Agent arsenal, which all convert HTML text into structured output, we now need logic to take a URL, load the contents and then feed these to the agents to receive their summaries.\n",
    "We will build two runner types:\n",
    "1. a batch runner, that loads the article once and runs it through different agents\n",
    "2. a unit runner, that can be exposed as a tool for another agent or chat bot to use per URL"
   ]
  },
  {
   "cell_type": "markdown",
   "id": "932b5beb",
   "metadata": {},
   "source": [
    "### [HTML Retrieval](#model-based-article-summarization)\n",
    "<a id=\"html-retrieval\"></a>\n",
    "We have not talked yet about what to feed the models. Since, we do not want them to take care of calling a fetching tool to load the URLs website data, we will just prepend this step programatically.\n",
    "\n",
    "We are using the simplest of the ways to retrieve a URLs response and wrap it into a big string with the original URL attached, so the LM knows where it came from."
   ]
  },
  {
   "cell_type": "code",
   "execution_count": null,
   "id": "28434e45",
   "metadata": {},
   "outputs": [],
   "source": [
    "import requests\n",
    "\n",
    "# Function that returns the HTML for a URL\n",
    "def page2string(url: str) -> str:\n",
    "    page_response = requests.get(url)\n",
    "    html = page_response.content\n",
    "    return f\"Page content for '{url}':\\n{html}\""
   ]
  },
  {
   "cell_type": "markdown",
   "id": "6af7e2b1",
   "metadata": {},
   "source": [
    "Some other important thing is, that programmatically loading websites, especially monetized content, is, sometimes adversing their anti-robot measures. While this workflow is tested, you should be fine with using real articles. The batch runner loads the article once, and then passes the content to each agent.\n",
    "\n",
    "However, if you expect to repeatedly call the same URLs for playing around, you should consider using a mock website, using Python's standard HTTP library. Simply load an article in your browser and then save it locally as HTML. In a terminal, in the directory of this HTML file, run:\n",
    "```bash\n",
    "python3 -m http.server 8000 --bind 127.0.0.1\n",
    "```\n",
    "this will make python serve your current directory via HTTP. You can then just access ``http://localhost:8000/<some-page>.html`` in your runner."
   ]
  },
  {
   "cell_type": "markdown",
   "id": "29fa1cff",
   "metadata": {},
   "source": [
    "### [Batch Runner](#model-based-article-summarization)\n",
    "<a id=\"batch-runner\"></a>\n",
    "Now, we arrived at the top-level cell that can be repeatedly run directly to actually do the work. Everything before that was just definitions and compiling (when making our AGENTS variable). If you change anything in the cells above, you have to also re-construct the AGENTS variable - might as well just re-run everything \"up to this cell\"."
   ]
  },
  {
   "cell_type": "code",
   "execution_count": null,
   "id": "1acab9df",
   "metadata": {},
   "outputs": [],
   "source": [
    "from langchain_core.messages import HumanMessage\n",
    "\n",
    "url = \"http://localhost:8000/page.html\"\n",
    "\n",
    "# Load url content and convert to a Message object\n",
    "html = page2string(url)\n",
    "prompt = HumanMessage(content=html)\n",
    "\n",
    "# actual runner\n",
    "async def stream_and_pretty_print(agent: CompiledGraph, prompt: HumanMessage):\n",
    "    message_index = 1 # skip showing the raw HTML\n",
    "    async for chunk in agent.astream({\"messages\": [prompt]}, stream_mode=\"values\"):\n",
    "        new_messages = chunk[\"messages\"][message_index:]\n",
    "        message_index += len(new_messages)\n",
    "        for message in new_messages:\n",
    "            message.pretty_print()\n",
    "\n",
    "# per agent configuration\n",
    "for model, agent in AGENTS.items():\n",
    "    # identify configuration in output\n",
    "    print(f\"STARTING EXTRACTION WITH '{model}' AGENT\")\n",
    "    # run runner\n",
    "    await stream_and_pretty_print(agent, prompt)"
   ]
  },
  {
   "cell_type": "markdown",
   "id": "2c74b472",
   "metadata": {},
   "source": [
    "### [Unit Runner (Tool)](#model-based-article-summarization)\n",
    "<a id=\"unit-runner-tool\"></a>\n",
    "Wrapping slightly differently - not stream-printing, but actually returning the ouput and using a fixed agent configuration (you might need to adjust, based on your ollama models available).\n",
    "\n",
    "This runner makes our agent usable as a tool in other agents and models, if you chose to spin up your own below here."
   ]
  },
  {
   "cell_type": "code",
   "execution_count": null,
   "id": "e5309400",
   "metadata": {},
   "outputs": [],
   "source": [
    "from langchain_core.messages import HumanMessage\n",
    "from langchain_core.tools import tool\n",
    "\n",
    "# decorate any python function that returns a string with this, to turn it into a tool object\n",
    "@tool\n",
    "async def summarize_article(url: str):\n",
    "    # the docstring is important for the LM to understand this tool\n",
    "    \"\"\"\n",
    "    This tool takes a url, expecting an article page, as input, loads it and returns a structured summary based on the URL's page data.\n",
    "    \"\"\"\n",
    "    html = page2string(url)\n",
    "    prompt = HumanMessage(content=html)\n",
    "\n",
    "    response = await AGENTS[\"granite3.2\"].ainvoke({\"messages\": [prompt]})\n",
    "    return response[\"messages\"][-1].content # tool answer will be only the final output (nothing from history)"
   ]
  }
 ],
 "metadata": {
  "kernelspec": {
   "display_name": ".venv",
   "language": "python",
   "name": "python3"
  },
  "language_info": {
   "codemirror_mode": {
    "name": "ipython",
    "version": 3
   },
   "file_extension": ".py",
   "mimetype": "text/x-python",
   "name": "python",
   "nbconvert_exporter": "python",
   "pygments_lexer": "ipython3",
   "version": "3.11.2"
  }
 },
 "nbformat": 4,
 "nbformat_minor": 5
}
